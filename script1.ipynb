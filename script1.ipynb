{
 "cells": [
  {
   "cell_type": "code",
   "execution_count": 1,
   "metadata": {},
   "outputs": [],
   "source": [
    "import mnist_loader"
   ]
  },
  {
   "cell_type": "code",
   "execution_count": 2,
   "metadata": {},
   "outputs": [],
   "source": [
    "training_data, validation_data, test_data = mnist_loader.load_data_wrapper()"
   ]
  },
  {
   "cell_type": "code",
   "execution_count": 3,
   "metadata": {},
   "outputs": [],
   "source": [
    "import network2"
   ]
  },
  {
   "cell_type": "code",
   "execution_count": 4,
   "metadata": {},
   "outputs": [],
   "source": [
    "net = network2.Network([784, 100, 10], cost=network2.CrossEntropyCost)"
   ]
  },
  {
   "cell_type": "code",
   "execution_count": 5,
   "metadata": {},
   "outputs": [
    {
     "name": "stdout",
     "output_type": "stream",
     "text": [
      "Epoch 0 training complete\n",
      "Accuracy on evaluation data: 9326 / 10000\n",
      "Epoch 1 training complete\n",
      "Accuracy on evaluation data: 9491 / 10000\n",
      "Epoch 2 training complete\n",
      "Accuracy on evaluation data: 9577 / 10000\n",
      "Epoch 3 training complete\n",
      "Accuracy on evaluation data: 9611 / 10000\n",
      "Epoch 4 training complete\n",
      "Accuracy on evaluation data: 9651 / 10000\n",
      "Epoch 5 training complete\n",
      "Accuracy on evaluation data: 9670 / 10000\n",
      "Epoch 6 training complete\n",
      "Accuracy on evaluation data: 9712 / 10000\n",
      "Epoch 7 training complete\n",
      "Accuracy on evaluation data: 9704 / 10000\n",
      "Epoch 8 training complete\n",
      "Accuracy on evaluation data: 9717 / 10000\n",
      "Epoch 9 training complete\n",
      "Accuracy on evaluation data: 9722 / 10000\n",
      "Epoch 10 training complete\n",
      "Accuracy on evaluation data: 9750 / 10000\n",
      "Epoch 11 training complete\n",
      "Accuracy on evaluation data: 9738 / 10000\n",
      "Epoch 12 training complete\n",
      "Accuracy on evaluation data: 9757 / 10000\n",
      "Epoch 13 training complete\n",
      "Accuracy on evaluation data: 9745 / 10000\n",
      "Epoch 14 training complete\n",
      "Accuracy on evaluation data: 9757 / 10000\n",
      "Epoch 15 training complete\n",
      "Accuracy on evaluation data: 9746 / 10000\n",
      "Epoch 16 training complete\n",
      "Accuracy on evaluation data: 9759 / 10000\n",
      "Epoch 17 training complete\n",
      "Accuracy on evaluation data: 9761 / 10000\n",
      "Epoch 18 training complete\n",
      "Accuracy on evaluation data: 9774 / 10000\n",
      "Epoch 19 training complete\n",
      "Accuracy on evaluation data: 9753 / 10000\n",
      "Epoch 20 training complete\n",
      "Accuracy on evaluation data: 9774 / 10000\n",
      "Epoch 21 training complete\n",
      "Accuracy on evaluation data: 9774 / 10000\n",
      "Epoch 22 training complete\n",
      "Accuracy on evaluation data: 9774 / 10000\n",
      "Epoch 23 training complete\n",
      "Accuracy on evaluation data: 9782 / 10000\n",
      "Epoch 24 training complete\n",
      "Accuracy on evaluation data: 9770 / 10000\n",
      "Epoch 25 training complete\n",
      "Accuracy on evaluation data: 9788 / 10000\n",
      "Epoch 26 training complete\n",
      "Accuracy on evaluation data: 9786 / 10000\n",
      "Epoch 27 training complete\n",
      "Accuracy on evaluation data: 9789 / 10000\n",
      "Epoch 28 training complete\n",
      "Accuracy on evaluation data: 9774 / 10000\n",
      "Epoch 29 training complete\n",
      "Accuracy on evaluation data: 9784 / 10000\n"
     ]
    },
    {
     "data": {
      "text/plain": [
       "([],\n",
       " [9326,\n",
       "  9491,\n",
       "  9577,\n",
       "  9611,\n",
       "  9651,\n",
       "  9670,\n",
       "  9712,\n",
       "  9704,\n",
       "  9717,\n",
       "  9722,\n",
       "  9750,\n",
       "  9738,\n",
       "  9757,\n",
       "  9745,\n",
       "  9757,\n",
       "  9746,\n",
       "  9759,\n",
       "  9761,\n",
       "  9774,\n",
       "  9753,\n",
       "  9774,\n",
       "  9774,\n",
       "  9774,\n",
       "  9782,\n",
       "  9770,\n",
       "  9788,\n",
       "  9786,\n",
       "  9789,\n",
       "  9774,\n",
       "  9784],\n",
       " [],\n",
       " [])"
      ]
     },
     "execution_count": 5,
     "metadata": {},
     "output_type": "execute_result"
    }
   ],
   "source": [
    "net.SGD(training_data, 30, 10, 0.1, lmbda=5.0,\n",
    "        evaluation_data=validation_data,\n",
    "        monitor_evaluation_accuracy=True)"
   ]
  },
  {
   "cell_type": "code",
   "execution_count": 9,
   "metadata": {},
   "outputs": [],
   "source": [
    "net = network2.Network([784, 30, 10], cost=network2.CrossEntropyCost)"
   ]
  },
  {
   "cell_type": "code",
   "execution_count": 10,
   "metadata": {},
   "outputs": [],
   "source": [
    "net.large_weight_initializer()"
   ]
  },
  {
   "cell_type": "code",
   "execution_count": 11,
   "metadata": {},
   "outputs": [
    {
     "name": "stdout",
     "output_type": "stream",
     "text": [
      "Epoch 0 training complete\n",
      "Accuracy on evaluation data: 0 / 0\n",
      "Epoch 1 training complete\n",
      "Accuracy on evaluation data: 0 / 0\n",
      "Epoch 2 training complete\n",
      "Accuracy on evaluation data: 0 / 0\n",
      "Epoch 3 training complete\n",
      "Accuracy on evaluation data: 0 / 0\n",
      "Epoch 4 training complete\n",
      "Accuracy on evaluation data: 0 / 0\n",
      "Epoch 5 training complete\n",
      "Accuracy on evaluation data: 0 / 0\n",
      "Epoch 6 training complete\n",
      "Accuracy on evaluation data: 0 / 0\n",
      "Epoch 7 training complete\n",
      "Accuracy on evaluation data: 0 / 0\n",
      "Epoch 8 training complete\n",
      "Accuracy on evaluation data: 0 / 0\n",
      "Epoch 9 training complete\n",
      "Accuracy on evaluation data: 0 / 0\n",
      "Epoch 10 training complete\n",
      "Accuracy on evaluation data: 0 / 0\n",
      "Epoch 11 training complete\n",
      "Accuracy on evaluation data: 0 / 0\n",
      "Epoch 12 training complete\n",
      "Accuracy on evaluation data: 0 / 0\n",
      "Epoch 13 training complete\n",
      "Accuracy on evaluation data: 0 / 0\n",
      "Epoch 14 training complete\n",
      "Accuracy on evaluation data: 0 / 0\n",
      "Epoch 15 training complete\n",
      "Accuracy on evaluation data: 0 / 0\n",
      "Epoch 16 training complete\n",
      "Accuracy on evaluation data: 0 / 0\n",
      "Epoch 17 training complete\n",
      "Accuracy on evaluation data: 0 / 0\n",
      "Epoch 18 training complete\n",
      "Accuracy on evaluation data: 0 / 0\n",
      "Epoch 19 training complete\n",
      "Accuracy on evaluation data: 0 / 0\n",
      "Epoch 20 training complete\n",
      "Accuracy on evaluation data: 0 / 0\n",
      "Epoch 21 training complete\n",
      "Accuracy on evaluation data: 0 / 0\n",
      "Epoch 22 training complete\n",
      "Accuracy on evaluation data: 0 / 0\n",
      "Epoch 23 training complete\n",
      "Accuracy on evaluation data: 0 / 0\n",
      "Epoch 24 training complete\n",
      "Accuracy on evaluation data: 0 / 0\n",
      "Epoch 25 training complete\n",
      "Accuracy on evaluation data: 0 / 0\n",
      "Epoch 26 training complete\n",
      "Accuracy on evaluation data: 0 / 0\n",
      "Epoch 27 training complete\n",
      "Accuracy on evaluation data: 0 / 0\n",
      "Epoch 28 training complete\n",
      "Accuracy on evaluation data: 0 / 0\n",
      "Epoch 29 training complete\n",
      "Accuracy on evaluation data: 0 / 0\n"
     ]
    },
    {
     "data": {
      "text/plain": [
       "([],\n",
       " [0,\n",
       "  0,\n",
       "  0,\n",
       "  0,\n",
       "  0,\n",
       "  0,\n",
       "  0,\n",
       "  0,\n",
       "  0,\n",
       "  0,\n",
       "  0,\n",
       "  0,\n",
       "  0,\n",
       "  0,\n",
       "  0,\n",
       "  0,\n",
       "  0,\n",
       "  0,\n",
       "  0,\n",
       "  0,\n",
       "  0,\n",
       "  0,\n",
       "  0,\n",
       "  0,\n",
       "  0,\n",
       "  0,\n",
       "  0,\n",
       "  0,\n",
       "  0,\n",
       "  0],\n",
       " [],\n",
       " [])"
      ]
     },
     "execution_count": 11,
     "metadata": {},
     "output_type": "execute_result"
    }
   ],
   "source": [
    "net.SGD(training_data, 30, 10, 0.1, lmbda = 5.0,\n",
    "        evaluation_data=validation_data,\n",
    "        monitor_evaluation_accuracy=True)"
   ]
  },
  {
   "cell_type": "code",
   "execution_count": null,
   "metadata": {},
   "outputs": [],
   "source": []
  }
 ],
 "metadata": {
  "kernelspec": {
   "display_name": "Python 3",
   "language": "python",
   "name": "python3"
  },
  "language_info": {
   "codemirror_mode": {
    "name": "ipython",
    "version": 3
   },
   "file_extension": ".py",
   "mimetype": "text/x-python",
   "name": "python",
   "nbconvert_exporter": "python",
   "pygments_lexer": "ipython3",
   "version": "3.7.3"
  }
 },
 "nbformat": 4,
 "nbformat_minor": 2
}
